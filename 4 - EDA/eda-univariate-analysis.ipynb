{
 "cells": [
  {
   "cell_type": "code",
   "execution_count": 2,
   "id": "af5de508",
   "metadata": {},
   "outputs": [],
   "source": [
    "import pandas as pd\n",
    "import numpy as np\n",
    "import matplotlib.pyplot as plt\n",
    "import seaborn as sns"
   ]
  },
  {
   "cell_type": "code",
   "execution_count": 6,
   "id": "457f31d2",
   "metadata": {},
   "outputs": [],
   "source": [
    "pd.set_option('display.max_columns', None)"
   ]
  },
  {
   "cell_type": "code",
   "execution_count": 7,
   "id": "355c0945",
   "metadata": {},
   "outputs": [
    {
     "data": {
      "text/html": [
       "<div>\n",
       "<style scoped>\n",
       "    .dataframe tbody tr th:only-of-type {\n",
       "        vertical-align: middle;\n",
       "    }\n",
       "\n",
       "    .dataframe tbody tr th {\n",
       "        vertical-align: top;\n",
       "    }\n",
       "\n",
       "    .dataframe thead th {\n",
       "        text-align: right;\n",
       "    }\n",
       "</style>\n",
       "<table border=\"1\" class=\"dataframe\">\n",
       "  <thead>\n",
       "    <tr style=\"text-align: right;\">\n",
       "      <th></th>\n",
       "      <th>property_type</th>\n",
       "      <th>society</th>\n",
       "      <th>sector</th>\n",
       "      <th>price</th>\n",
       "      <th>price_per_sqft</th>\n",
       "      <th>area</th>\n",
       "      <th>areaWithType</th>\n",
       "      <th>bedRoom</th>\n",
       "      <th>bathroom</th>\n",
       "      <th>balcony</th>\n",
       "      <th>floorNum</th>\n",
       "      <th>facing</th>\n",
       "      <th>agePossession</th>\n",
       "      <th>super_built_up_area</th>\n",
       "      <th>built_up_area</th>\n",
       "      <th>carpet_area</th>\n",
       "      <th>study room</th>\n",
       "      <th>servant room</th>\n",
       "      <th>store room</th>\n",
       "      <th>pooja room</th>\n",
       "      <th>others</th>\n",
       "      <th>furnishing_type</th>\n",
       "      <th>luxury_score</th>\n",
       "    </tr>\n",
       "  </thead>\n",
       "  <tbody>\n",
       "    <tr>\n",
       "      <th>0</th>\n",
       "      <td>flat</td>\n",
       "      <td>tulip ivory3.</td>\n",
       "      <td>sector 70</td>\n",
       "      <td>2.00</td>\n",
       "      <td>8333.0</td>\n",
       "      <td>2400.0</td>\n",
       "      <td>Super Built up area 2400(222.97 sq.m.)Carpet a...</td>\n",
       "      <td>4.0</td>\n",
       "      <td>5.0</td>\n",
       "      <td>3+</td>\n",
       "      <td>6.0</td>\n",
       "      <td>East</td>\n",
       "      <td>Moderately Old</td>\n",
       "      <td>2400.0</td>\n",
       "      <td>NaN</td>\n",
       "      <td>1850.0</td>\n",
       "      <td>0</td>\n",
       "      <td>1</td>\n",
       "      <td>0</td>\n",
       "      <td>0</td>\n",
       "      <td>0</td>\n",
       "      <td>1</td>\n",
       "      <td>95</td>\n",
       "    </tr>\n",
       "    <tr>\n",
       "      <th>1</th>\n",
       "      <td>flat</td>\n",
       "      <td>capital residences 360</td>\n",
       "      <td>sector 70a</td>\n",
       "      <td>1.69</td>\n",
       "      <td>8552.0</td>\n",
       "      <td>1976.0</td>\n",
       "      <td>Super Built up area 1976(183.58 sq.m.)Built Up...</td>\n",
       "      <td>3.0</td>\n",
       "      <td>3.0</td>\n",
       "      <td>3+</td>\n",
       "      <td>8.0</td>\n",
       "      <td>North-East</td>\n",
       "      <td>New Property</td>\n",
       "      <td>1976.0</td>\n",
       "      <td>1900.0</td>\n",
       "      <td>1650.0</td>\n",
       "      <td>0</td>\n",
       "      <td>1</td>\n",
       "      <td>0</td>\n",
       "      <td>0</td>\n",
       "      <td>0</td>\n",
       "      <td>0</td>\n",
       "      <td>165</td>\n",
       "    </tr>\n",
       "    <tr>\n",
       "      <th>2</th>\n",
       "      <td>flat</td>\n",
       "      <td>emaar palm premier</td>\n",
       "      <td>sector 77</td>\n",
       "      <td>2.10</td>\n",
       "      <td>10500.0</td>\n",
       "      <td>2000.0</td>\n",
       "      <td>Super Built up area 2000(185.81 sq.m.)Built Up...</td>\n",
       "      <td>3.0</td>\n",
       "      <td>4.0</td>\n",
       "      <td>3+</td>\n",
       "      <td>11.0</td>\n",
       "      <td>NaN</td>\n",
       "      <td>New Property</td>\n",
       "      <td>2000.0</td>\n",
       "      <td>1600.0</td>\n",
       "      <td>1500.0</td>\n",
       "      <td>0</td>\n",
       "      <td>1</td>\n",
       "      <td>0</td>\n",
       "      <td>0</td>\n",
       "      <td>0</td>\n",
       "      <td>1</td>\n",
       "      <td>129</td>\n",
       "    </tr>\n",
       "    <tr>\n",
       "      <th>3</th>\n",
       "      <td>flat</td>\n",
       "      <td>m3m merlin3.</td>\n",
       "      <td>sector 67</td>\n",
       "      <td>2.65</td>\n",
       "      <td>12945.0</td>\n",
       "      <td>2047.0</td>\n",
       "      <td>Super Built up area 2047(190.17 sq.m.)Built Up...</td>\n",
       "      <td>3.0</td>\n",
       "      <td>3.0</td>\n",
       "      <td>3</td>\n",
       "      <td>0.0</td>\n",
       "      <td>North-East</td>\n",
       "      <td>Relatively New</td>\n",
       "      <td>2047.0</td>\n",
       "      <td>1900.0</td>\n",
       "      <td>1700.0</td>\n",
       "      <td>0</td>\n",
       "      <td>0</td>\n",
       "      <td>0</td>\n",
       "      <td>0</td>\n",
       "      <td>1</td>\n",
       "      <td>1</td>\n",
       "      <td>174</td>\n",
       "    </tr>\n",
       "    <tr>\n",
       "      <th>4</th>\n",
       "      <td>flat</td>\n",
       "      <td>dnha group housing society</td>\n",
       "      <td>manesar</td>\n",
       "      <td>0.75</td>\n",
       "      <td>4518.0</td>\n",
       "      <td>1660.0</td>\n",
       "      <td>Super Built up area 1660(154.22 sq.m.)</td>\n",
       "      <td>3.0</td>\n",
       "      <td>2.0</td>\n",
       "      <td>2</td>\n",
       "      <td>5.0</td>\n",
       "      <td>NaN</td>\n",
       "      <td>Moderately Old</td>\n",
       "      <td>1660.0</td>\n",
       "      <td>NaN</td>\n",
       "      <td>NaN</td>\n",
       "      <td>0</td>\n",
       "      <td>0</td>\n",
       "      <td>0</td>\n",
       "      <td>0</td>\n",
       "      <td>0</td>\n",
       "      <td>0</td>\n",
       "      <td>0</td>\n",
       "    </tr>\n",
       "  </tbody>\n",
       "</table>\n",
       "</div>"
      ],
      "text/plain": [
       "  property_type                     society      sector  price  \\\n",
       "0          flat               tulip ivory3.   sector 70   2.00   \n",
       "1          flat      capital residences 360  sector 70a   1.69   \n",
       "2          flat          emaar palm premier   sector 77   2.10   \n",
       "3          flat                m3m merlin3.   sector 67   2.65   \n",
       "4          flat  dnha group housing society     manesar   0.75   \n",
       "\n",
       "   price_per_sqft    area                                       areaWithType  \\\n",
       "0          8333.0  2400.0  Super Built up area 2400(222.97 sq.m.)Carpet a...   \n",
       "1          8552.0  1976.0  Super Built up area 1976(183.58 sq.m.)Built Up...   \n",
       "2         10500.0  2000.0  Super Built up area 2000(185.81 sq.m.)Built Up...   \n",
       "3         12945.0  2047.0  Super Built up area 2047(190.17 sq.m.)Built Up...   \n",
       "4          4518.0  1660.0             Super Built up area 1660(154.22 sq.m.)   \n",
       "\n",
       "   bedRoom  bathroom balcony  floorNum      facing   agePossession  \\\n",
       "0      4.0       5.0      3+       6.0        East  Moderately Old   \n",
       "1      3.0       3.0      3+       8.0  North-East    New Property   \n",
       "2      3.0       4.0      3+      11.0         NaN    New Property   \n",
       "3      3.0       3.0       3       0.0  North-East  Relatively New   \n",
       "4      3.0       2.0       2       5.0         NaN  Moderately Old   \n",
       "\n",
       "   super_built_up_area  built_up_area  carpet_area  study room  servant room  \\\n",
       "0               2400.0            NaN       1850.0           0             1   \n",
       "1               1976.0         1900.0       1650.0           0             1   \n",
       "2               2000.0         1600.0       1500.0           0             1   \n",
       "3               2047.0         1900.0       1700.0           0             0   \n",
       "4               1660.0            NaN          NaN           0             0   \n",
       "\n",
       "   store room  pooja room  others  furnishing_type  luxury_score  \n",
       "0           0           0       0                1            95  \n",
       "1           0           0       0                0           165  \n",
       "2           0           0       0                1           129  \n",
       "3           0           0       1                1           174  \n",
       "4           0           0       0                0             0  "
      ]
     },
     "execution_count": 7,
     "metadata": {},
     "output_type": "execute_result"
    }
   ],
   "source": [
    "df = pd.read_csv('/Users/garvit/Desktop/NestWise/Clean Data/gurgaon_properties_cleaned_v2.csv')\n",
    "df.head()"
   ]
  },
  {
   "cell_type": "code",
   "execution_count": 8,
   "id": "535f98a0",
   "metadata": {},
   "outputs": [
    {
     "data": {
      "text/plain": [
       "(3817, 23)"
      ]
     },
     "execution_count": 8,
     "metadata": {},
     "output_type": "execute_result"
    }
   ],
   "source": [
    "df.shape"
   ]
  },
  {
   "cell_type": "code",
   "execution_count": 9,
   "id": "e05f049f",
   "metadata": {},
   "outputs": [
    {
     "name": "stdout",
     "output_type": "stream",
     "text": [
      "<class 'pandas.core.frame.DataFrame'>\n",
      "RangeIndex: 3817 entries, 0 to 3816\n",
      "Data columns (total 23 columns):\n",
      " #   Column               Non-Null Count  Dtype  \n",
      "---  ------               --------------  -----  \n",
      " 0   property_type        3816 non-null   object \n",
      " 1   society              3815 non-null   object \n",
      " 2   sector               3817 non-null   object \n",
      " 3   price                3787 non-null   float64\n",
      " 4   price_per_sqft       3787 non-null   float64\n",
      " 5   area                 3787 non-null   float64\n",
      " 6   areaWithType         3816 non-null   object \n",
      " 7   bedRoom              3816 non-null   float64\n",
      " 8   bathroom             3816 non-null   float64\n",
      " 9   balcony              3816 non-null   object \n",
      " 10  floorNum             3797 non-null   float64\n",
      " 11  facing               2704 non-null   object \n",
      " 12  agePossession        3817 non-null   object \n",
      " 13  super_built_up_area  1918 non-null   float64\n",
      " 14  built_up_area        1737 non-null   float64\n",
      " 15  carpet_area          1951 non-null   float64\n",
      " 16  study room           3817 non-null   int64  \n",
      " 17  servant room         3817 non-null   int64  \n",
      " 18  store room           3817 non-null   int64  \n",
      " 19  pooja room           3817 non-null   int64  \n",
      " 20  others               3817 non-null   int64  \n",
      " 21  furnishing_type      3817 non-null   int64  \n",
      " 22  luxury_score         3817 non-null   int64  \n",
      "dtypes: float64(9), int64(7), object(7)\n",
      "memory usage: 686.0+ KB\n"
     ]
    }
   ],
   "source": [
    "df.info()"
   ]
  },
  {
   "cell_type": "code",
   "execution_count": 10,
   "id": "edf33b46",
   "metadata": {},
   "outputs": [
    {
     "data": {
      "text/plain": [
       "np.int64(126)"
      ]
     },
     "execution_count": 10,
     "metadata": {},
     "output_type": "execute_result"
    }
   ],
   "source": [
    "df.duplicated().sum()"
   ]
  },
  {
   "cell_type": "code",
   "execution_count": 11,
   "id": "d06e8d22",
   "metadata": {},
   "outputs": [],
   "source": [
    "df.drop_duplicates(inplace=True)"
   ]
  },
  {
   "cell_type": "markdown",
   "id": "e45c6096",
   "metadata": {},
   "source": [
    "1. Property Type (property_type)\n",
    "\n",
    "-> Since it's a categorical col, whenever we have a catergorical col, we try to understand the distribution of the category -- how ? by plotting."
   ]
  },
  {
   "cell_type": "code",
   "execution_count": null,
   "id": "6b1aace7",
   "metadata": {},
   "outputs": [
    {
     "data": {
      "text/plain": [
       "<Axes: xlabel='property_type'>"
      ]
     },
     "execution_count": 13,
     "metadata": {},
     "output_type": "execute_result"
    },
    {
     "data": {
      "image/png": "[encoded data removed]",
      "text/plain": [
       "<Figure size 640x480 with 1 Axes>"
      ]
     },
     "metadata": {},
     "output_type": "display_data"
    }
   ],
   "source": [
    "df['property_type'].value_counts().plot(kind='bar')"
   ]
  },
  {
   "cell_type": "markdown",
   "id": "ba9cd2e6",
   "metadata": {},
   "source": [
    "Observations :\n",
    "\n",
    "- Flats are in majority around 75 %\n",
    "- No missing values"
   ]
  },
  {
   "cell_type": "markdown",
   "id": "9a360337",
   "metadata": {},
   "source": [
    "2. Society (society)\n",
    "\n",
    "-> Categorical col, find distribution "
   ]
  },
  {
   "cell_type": "code",
   "execution_count": null,
   "id": "ee0b9252",
   "metadata": {},
   "outputs": [
    {
     "data": {
      "text/plain": [
       "(724,)"
      ]
     },
     "execution_count": 15,
     "metadata": {},
     "output_type": "execute_result"
    }
   ],
   "source": [
    "df['society'].value_counts().shape # too many category in society"
   ]
  },
  {
   "cell_type": "code",
   "execution_count": null,
   "id": "b98b9565",
   "metadata": {},
   "outputs": [
    {
     "data": {
      "text/plain": [
       "society\n",
       "independent                               486\n",
       "tulip violet4.                             73\n",
       "ss the leaf3.                              72\n",
       "shapoorji pallonji joyville gurugram4.     38\n",
       "shree vardhman victoria3.                  34\n",
       "                                         ... \n",
       "sobha smriti apartments                     1\n",
       "unitech the palms                           1\n",
       "shreeram apartment ii                       1\n",
       "experion heartsong                          1\n",
       "ansal maple heights3.                       1\n",
       "Name: count, Length: 724, dtype: int64"
      ]
     },
     "execution_count": 16,
     "metadata": {},
     "output_type": "execute_result"
    }
   ],
   "source": [
    "df['society'].value_counts() # there are 486 independent houses"
   ]
  },
  {
   "cell_type": "code",
   "execution_count": 18,
   "id": "50774647",
   "metadata": {},
   "outputs": [
    {
     "data": {
      "text/plain": [
       "society\n",
       "independent                               0.131743\n",
       "tulip violet4.                            0.151532\n",
       "ss the leaf3.                             0.171049\n",
       "shapoorji pallonji joyville gurugram4.    0.181350\n",
       "shree vardhman victoria3.                 0.190567\n",
       "                                            ...   \n",
       "ramsons kshitij3.                         0.540526\n",
       "ireo the corridors                        0.543779\n",
       "unitech uniworld resorts                  0.547032\n",
       "mvn athens3.                              0.550285\n",
       "central park flower valley                0.553538\n",
       "Name: proportion, Length: 75, dtype: float64"
      ]
     },
     "execution_count": 18,
     "metadata": {},
     "output_type": "execute_result"
    }
   ],
   "source": [
    "df[df['society'] != 'independen']['society'].value_counts(normalize=True).cumsum().head(75)"
   ]
  },
  {
   "cell_type": "code",
   "execution_count": 19,
   "id": "b580b508",
   "metadata": {},
   "outputs": [
    {
     "data": {
      "text/plain": [
       "{'Very High ( > 100)': np.int64(1),\n",
       " 'High ( > 50 )': np.int64(2),\n",
       " 'Average (10 - 49)': np.int64(92),\n",
       " 'Low (2-9)': np.int64(291),\n",
       " 'Very Low (1)': np.int64(338)}"
      ]
     },
     "execution_count": 19,
     "metadata": {},
     "output_type": "execute_result"
    }
   ],
   "source": [
    "society_counts = df['society'].value_counts()\n",
    "\n",
    "# Frequency distribution for societies\n",
    "freq_bin = {\n",
    "    \"Very High ( > 100)\":(society_counts > 100).sum(),\n",
    "    \"High ( > 50 )\":((society_counts >= 50 ) & (society_counts <= 100)).sum(),\n",
    "    \"Average (10 - 49)\":((society_counts >= 10 ) & (society_counts < 50)).sum(),\n",
    "    \"Low (2-9)\":((society_counts > 1) & (society_counts < 10)).sum(),\n",
    "    \"Very Low (1)\":(society_counts == 1).sum()\n",
    "}\n",
    "\n",
    "freq_bin"
   ]
  },
  {
   "cell_type": "code",
   "execution_count": 20,
   "id": "93006adf",
   "metadata": {},
   "outputs": [
    {
     "data": {
      "text/plain": [
       "<Axes: xlabel='society'>"
      ]
     },
     "execution_count": 20,
     "metadata": {},
     "output_type": "execute_result"
    },
    {
     "data": {
      "image/png": "[encoded data removed]",
      "text/plain": [
       "<Figure size 640x480 with 1 Axes>"
      ]
     },
     "metadata": {},
     "output_type": "display_data"
    }
   ],
   "source": [
    "# top 10 socities\n",
    "df[df['society'] != 'independent']['society'].value_counts().head(10).plot(kind='bar')"
   ]
  },
  {
   "cell_type": "markdown",
   "id": "e4583a3e",
   "metadata": {},
   "source": [
    "Observation :\n",
    "\n",
    "- Around 13% properties comes under independent tag.\n",
    "- There are 675 societies.\n",
    "- The top 75 societies have 50 percent of the preperties and the rest 50 percent of the properties come under the remaining 600 societies\n",
    "\n",
    "    Very High (>100): Only 1 society has more than 100 listings.\n",
    "    High (50-100): 2 societies have between 50 to 100 listings.\n",
    "    Average (10-49): 92 societies fall in this range with 10 to 49 listings each.\n",
    "    Low (2-9): 273 societies have between 2 to 9 listings.\n",
    "    Very Low (1): A significant number, 308 societies, have only 1 listing.\n",
    "\n",
    "-1 missing value"
   ]
  },
  {
   "cell_type": "code",
   "execution_count": null,
   "id": "8df51953",
   "metadata": {},
   "outputs": [],
   "source": []
  }
 ],
 "metadata": {
  "kernelspec": {
   "display_name": "nestwise-env",
   "language": "python",
   "name": "python3"
  },
  "language_info": {
   "codemirror_mode": {
    "name": "ipython",
    "version": 3
   },
   "file_extension": ".py",
   "mimetype": "text/x-python",
   "name": "python",
   "nbconvert_exporter": "python",
   "pygments_lexer": "ipython3",
   "version": "3.13.1"
  }
 },
 "nbformat": 4,
 "nbformat_minor": 5
}
